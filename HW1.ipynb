{
 "cells": [
  {
   "cell_type": "markdown",
   "metadata": {},
   "source": [
    "## Home assignment\n",
    "\n",
    "1.\tMake two groups of objects on your dataset.\n",
    "2.\tCompute histograms of a variable on these groups and show them, and make a comment.\n",
    "3.\tCompute 95% confidence intervals of the within-group means using bootstrap.\n",
    "4.\tCompute 95% confidence interval of the difference of the means using bootstrap.\n",
    "5. Comment on the results."
   ]
  },
  {
   "cell_type": "code",
   "execution_count": 2,
   "metadata": {
    "collapsed": false
   },
   "outputs": [],
   "source": [
    "import pandas as pd\n",
    "import numpy as np\n",
    "import matplotlib.pyplot as plt\n",
    "import statistics\n",
    "from scipy import stats\n",
    "%matplotlib inline "
   ]
  },
  {
   "cell_type": "markdown",
   "metadata": {},
   "source": [
    "#### Load data"
   ]
  },
  {
   "cell_type": "code",
   "execution_count": 3,
   "metadata": {
    "collapsed": false
   },
   "outputs": [],
   "source": [
    "bg_3 = pd.read_csv('chr2R_data/BG3_cell_line.csv',sep=';',header=False)\n",
    "s_2 = pd.read_csv('chr2R_data/S2_cell_line.csv',sep=';',header=False)\n",
    "kc = pd.read_csv('chr2R_data/KC_cell_line.csv',sep=';',header=False)"
   ]
  },
  {
   "cell_type": "code",
   "execution_count": 4,
   "metadata": {
    "collapsed": false
   },
   "outputs": [
    {
     "data": {
      "text/html": [
       "<div style=\"max-height:1000px;max-width:1500px;overflow:auto;\">\n",
       "<table border=\"1\" class=\"dataframe\">\n",
       "  <thead>\n",
       "    <tr style=\"text-align: right;\">\n",
       "      <th></th>\n",
       "      <th>Chr</th>\n",
       "      <th>Bin</th>\n",
       "      <th>1</th>\n",
       "      <th>2</th>\n",
       "      <th>3</th>\n",
       "      <th>4</th>\n",
       "      <th>5</th>\n",
       "      <th>6</th>\n",
       "      <th>7</th>\n",
       "      <th>8</th>\n",
       "      <th>9</th>\n",
       "      <th>RNAseq_Rep1</th>\n",
       "      <th>RNAseq_Rep2</th>\n",
       "      <th>TAD</th>\n",
       "      <th>Dist. to TAD border</th>\n",
       "    </tr>\n",
       "  </thead>\n",
       "  <tbody>\n",
       "    <tr>\n",
       "      <th>0</th>\n",
       "      <td>chr2R</td>\n",
       "      <td>0</td>\n",
       "      <td>0.08565</td>\n",
       "      <td>0</td>\n",
       "      <td>0</td>\n",
       "      <td>0</td>\n",
       "      <td>0</td>\n",
       "      <td>0</td>\n",
       "      <td>0.35000</td>\n",
       "      <td>0</td>\n",
       "      <td>0</td>\n",
       "      <td>153</td>\n",
       "      <td>182</td>\n",
       "      <td>0</td>\n",
       "      <td>0</td>\n",
       "    </tr>\n",
       "    <tr>\n",
       "      <th>1</th>\n",
       "      <td>chr2R</td>\n",
       "      <td>20000</td>\n",
       "      <td>0.01435</td>\n",
       "      <td>0</td>\n",
       "      <td>0</td>\n",
       "      <td>0</td>\n",
       "      <td>0</td>\n",
       "      <td>0</td>\n",
       "      <td>0.98565</td>\n",
       "      <td>0</td>\n",
       "      <td>0</td>\n",
       "      <td>105</td>\n",
       "      <td>137</td>\n",
       "      <td>1</td>\n",
       "      <td>1</td>\n",
       "    </tr>\n",
       "    <tr>\n",
       "      <th>2</th>\n",
       "      <td>chr2R</td>\n",
       "      <td>40000</td>\n",
       "      <td>0.00000</td>\n",
       "      <td>0</td>\n",
       "      <td>0</td>\n",
       "      <td>0</td>\n",
       "      <td>0</td>\n",
       "      <td>0</td>\n",
       "      <td>1.00000</td>\n",
       "      <td>0</td>\n",
       "      <td>0</td>\n",
       "      <td>0</td>\n",
       "      <td>0</td>\n",
       "      <td>1</td>\n",
       "      <td>2</td>\n",
       "    </tr>\n",
       "    <tr>\n",
       "      <th>3</th>\n",
       "      <td>chr2R</td>\n",
       "      <td>60000</td>\n",
       "      <td>0.07000</td>\n",
       "      <td>0</td>\n",
       "      <td>0</td>\n",
       "      <td>0</td>\n",
       "      <td>0</td>\n",
       "      <td>0</td>\n",
       "      <td>0.93000</td>\n",
       "      <td>0</td>\n",
       "      <td>0</td>\n",
       "      <td>330</td>\n",
       "      <td>328</td>\n",
       "      <td>1</td>\n",
       "      <td>1</td>\n",
       "    </tr>\n",
       "    <tr>\n",
       "      <th>4</th>\n",
       "      <td>chr2R</td>\n",
       "      <td>80000</td>\n",
       "      <td>0.00000</td>\n",
       "      <td>0</td>\n",
       "      <td>0</td>\n",
       "      <td>0</td>\n",
       "      <td>0</td>\n",
       "      <td>0</td>\n",
       "      <td>1.00000</td>\n",
       "      <td>0</td>\n",
       "      <td>0</td>\n",
       "      <td>0</td>\n",
       "      <td>0</td>\n",
       "      <td>0</td>\n",
       "      <td>0</td>\n",
       "    </tr>\n",
       "  </tbody>\n",
       "</table>\n",
       "</div>"
      ],
      "text/plain": [
       "     Chr    Bin        1  2  3  4  5  6        7  8  9  RNAseq_Rep1  \\\n",
       "0  chr2R      0  0.08565  0  0  0  0  0  0.35000  0  0          153   \n",
       "1  chr2R  20000  0.01435  0  0  0  0  0  0.98565  0  0          105   \n",
       "2  chr2R  40000  0.00000  0  0  0  0  0  1.00000  0  0            0   \n",
       "3  chr2R  60000  0.07000  0  0  0  0  0  0.93000  0  0          330   \n",
       "4  chr2R  80000  0.00000  0  0  0  0  0  1.00000  0  0            0   \n",
       "\n",
       "   RNAseq_Rep2  TAD  Dist. to TAD border  \n",
       "0          182    0                    0  \n",
       "1          137    1                    1  \n",
       "2            0    1                    2  \n",
       "3          328    1                    1  \n",
       "4            0    0                    0  "
      ]
     },
     "execution_count": 4,
     "metadata": {},
     "output_type": "execute_result"
    }
   ],
   "source": [
    "bg_3.head()"
   ]
  },
  {
   "cell_type": "markdown",
   "metadata": {},
   "source": [
    "#### Divide into two groups (feature: ch1)"
   ]
  },
  {
   "cell_type": "code",
   "execution_count": 6,
   "metadata": {
    "collapsed": true
   },
   "outputs": [],
   "source": [
    "bg_3_ch_1 = bg_3['1']\n",
    "s_2_ch_1 = s_2['1']"
   ]
  },
  {
   "cell_type": "code",
   "execution_count": 7,
   "metadata": {
    "collapsed": true
   },
   "outputs": [],
   "source": [
    "bg_and_s = bg_3_ch_1.append(s_2_ch_1)"
   ]
  },
  {
   "cell_type": "markdown",
   "metadata": {},
   "source": [
    "#### Histograms "
   ]
  },
  {
   "cell_type": "code",
   "execution_count": 8,
   "metadata": {
    "collapsed": false
   },
   "outputs": [
    {
     "data": {
      "text/plain": [
       "<matplotlib.text.Text at 0x107f5c160>"
      ]
     },
     "execution_count": 8,
     "metadata": {},
     "output_type": "execute_result"
    },
    {
     "data": {
      "image/png": "[encoded data removed]",
      "text/plain": [
       "<matplotlib.figure.Figure at 0x107f02908>"
      ]
     },
     "metadata": {},
     "output_type": "display_data"
    }
   ],
   "source": [
    "fig, hist = plt.subplots(nrows=1, ncols=2, sharex=True, sharey=True, figsize=(20,10))\n",
    "\n",
    "hist[0].hist(bg_3_ch_1.values,color = 'green')\n",
    "hist[0].set_title('Ch1 in BG3')\n",
    "\n",
    "hist[1].hist(s_2_ch_1.values,color = 'red')\n",
    "hist[1].set_title('Ch1 in S2')"
   ]
  },
  {
   "cell_type": "markdown",
   "metadata": {},
   "source": [
    "#### Bootstrap\n",
    "It is interesting to read: https://habrahabr.ru/post/192000/"
   ]
  },
  {
   "cell_type": "code",
   "execution_count": 9,
   "metadata": {
    "collapsed": true
   },
   "outputs": [],
   "source": [
    "def bootstrap(data):\n",
    "    n = len(data.values)-1\n",
    "    matrix = np.ceil(n*np.random.rand(n,5000))\n",
    "    mean = []\n",
    "    std = []\n",
    "    \n",
    "    for i,row in enumerate(matrix):\n",
    "        for j,item in enumerate(row):\n",
    "            matrix[i,j] = float(data.iloc[int(item)])\n",
    "    for column in matrix.T:\n",
    "        mean.append(np.mean(column))\n",
    "        std.append(np.std(column))\n",
    "        \n",
    "    return mean,np.mean(mean),np.mean(std)/np.sqrt(len(column))"
   ]
  },
  {
   "cell_type": "code",
   "execution_count": 10,
   "metadata": {
    "collapsed": false
   },
   "outputs": [],
   "source": [
    "bg_mean_dist, bg_ex, bg_sx = bootstrap(bg_3_ch_1)\n",
    "s_mean_dist, s_ex, s_sx = bootstrap(s_2_ch_1)\n",
    "\n",
    "# z = x - y\n",
    "m_ex = s_ex - bg_ex \n",
    "m_sx = np.sqrt(bg_sx**2 + bg_sx**2)"
   ]
  },
  {
   "cell_type": "code",
   "execution_count": 11,
   "metadata": {
    "collapsed": false
   },
   "outputs": [
    {
     "data": {
      "text/plain": [
       "<matplotlib.text.Text at 0x10d6f9978>"
      ]
     },
     "execution_count": 11,
     "metadata": {},
     "output_type": "execute_result"
    },
    {
     "data": {
      "image/png": "[encoded data removed]",
      "text/plain": [
       "<matplotlib.figure.Figure at 0x107dfab00>"
      ]
     },
     "metadata": {},
     "output_type": "display_data"
    }
   ],
   "source": [
    "fig, hist = plt.subplots(nrows=1, ncols=2,sharex=True, sharey=True, figsize=(20,10))\n",
    "\n",
    "hist[0].hist(bg_mean_dist,color = 'green')\n",
    "hist[0].set_title('BG3 bootstrap')\n",
    "\n",
    "hist[1].hist(s_mean_dist,color = 'red')\n",
    "hist[1].set_title('S2 bootstrap')"
   ]
  },
  {
   "cell_type": "markdown",
   "metadata": {},
   "source": [
    "#### 95% confidence interval "
   ]
  },
  {
   "cell_type": "code",
   "execution_count": 12,
   "metadata": {
    "collapsed": true
   },
   "outputs": [],
   "source": [
    "def get_confidence_interval(ex, sx, alpha = 0.05):\n",
    "    z = abs(stats.norm.ppf(alpha/2))\n",
    "    return [ex-z*sx,ex+z*sx]"
   ]
  },
  {
   "cell_type": "code",
   "execution_count": 16,
   "metadata": {
    "collapsed": false
   },
   "outputs": [
    {
     "name": "stdout",
     "output_type": "stream",
     "text": [
      "Confidence intervals\n",
      "BG3: [0.067430216748981864, 0.081888951906321172] \n",
      "S2: [0.078918142059946517, 0.095539277352932273] \n",
      "(S2 - BG3): [0.0023452557016529138, 0.022792995055922839]\n"
     ]
    }
   ],
   "source": [
    "print('Confidence intervals\\nBG3:', get_confidence_interval(bg_ex, bg_sx),\n",
    "                          '\\nS2:', get_confidence_interval(s_ex, s_sx),\n",
    "                          '\\n(S2 - BG3):', get_confidence_interval(m_ex, m_sx))"
   ]
  },
  {
   "cell_type": "markdown",
   "metadata": {},
   "source": [
    "### Description"
   ]
  },
  {
   "cell_type": "markdown",
   "metadata": {},
   "source": [
    "The cell is for future comment of the results"
   ]
  }
 ],
 "metadata": {
  "kernelspec": {
   "display_name": "Python 3",
   "language": "python",
   "name": "python3"
  },
  "language_info": {
   "codemirror_mode": {
    "name": "ipython",
    "version": 3
   },
   "file_extension": ".py",
   "mimetype": "text/x-python",
   "name": "python",
   "nbconvert_exporter": "python",
   "pygments_lexer": "ipython3",
   "version": "3.4.3"
  }
 },
 "nbformat": 4,
 "nbformat_minor": 0
}
